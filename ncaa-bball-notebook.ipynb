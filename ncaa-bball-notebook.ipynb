{
 "cells": [
  {
   "cell_type": "code",
   "execution_count": 2,
   "metadata": {
    "collapsed": true
   },
   "outputs": [],
   "source": [
    "from bs4 import BeautifulSoup\n",
    "import requests\n",
    "import pandas\n",
    "# from pandas.tools.merge import concat\n",
    "from pandas.io import sql\n",
    "# import numpy as np\n",
    "from unidecode import unidecode\n",
    "import time\n",
    "import random\n",
    "import re\n",
    "import MySQLdb\n",
    "import sqlalchemy"
   ]
  },
  {
   "cell_type": "code",
   "execution_count": 3,
   "metadata": {
    "collapsed": false
   },
   "outputs": [],
   "source": [
    "# MySQL Variables\n",
    "the_host = \"127.0.0.1\"\n",
    "the_db = \"mikes_db\"\n",
    "the_user = \"root\"\n",
    "the_pw = \"Prog2016\"\n",
    "db = MySQLdb.connect(the_host, the_user, the_pw, the_db, use_unicode = True, charset = \"utf8\")\n",
    "the_cursor = db.cursor()"
   ]
  },
  {
   "cell_type": "code",
   "execution_count": 4,
   "metadata": {
    "collapsed": true
   },
   "outputs": [],
   "source": [
    "# Add distinctive User-Agent header to let the server know who you are\n",
    "headers = {\n",
    "    'User-Agent': 'MikesBballAnalysisScript/Contact me: mrhodes262@gmail.com',\n",
    "    'Accept-Encoding': 'gzip, deflate',\n",
    "}\n",
    "\n",
    "# Base URLs\n",
    "espn_ncaa_bball_team_url = 'http://espn.go.com/mens-college-basketball/teams'\n",
    "team_schedule_base_url = 'http://espn.go.com/mens-college-basketball/team/schedule/_/id/'\n",
    "base_roster_url = 'http://espn.go.com/mens-college-basketball/team/roster/_/id/'\n",
    "box_score_base_url = 'http://espn.go.com/ncb/boxscore?gameId='\n",
    "play_by_play_base_url = 'http://espn.go.com/ncb/playbyplay?gameId='"
   ]
  },
  {
   "cell_type": "code",
   "execution_count": 5,
   "metadata": {
    "collapsed": true
   },
   "outputs": [],
   "source": [
    "def get_team_list():\n",
    "    # Create an empty list that will contain school names and URLs to their ESPN profiles\n",
    "    team_link_list = []\n",
    "    \n",
    "    # Request the HTML doc from ESPN's website\n",
    "    bball_team_request = requests.get(espn_ncaa_bball_team_url, headers = headers)\n",
    "    # Retrieve the contents and create beautiful soup object\n",
    "    bball_team_request_content = BeautifulSoup(bball_team_request.content)\n",
    "     \n",
    "    # The school names are contained in unordered list tags named \"medium-logos\". Find each ul tag with that class name.\n",
    "    blah = bball_team_request_content.findAll('ul', {'class': 'medium-logos'})\n",
    "     \n",
    "    # Each one of those ul tags represents a conference\n",
    "    for unorderedlist in blah:\n",
    "        # Within those conferences, find li tags, which will contain the names and links for each school in the conference\n",
    "        conference = unorderedlist.findAll('li')\n",
    "         \n",
    "        # For each li that represents the school, get the schools name and ESPN profile link\n",
    "        for school in conference:\n",
    "            school_name = school.a.contents[0]\n",
    "            school_name = unidecode(school_name)\n",
    "            school_link = school.a.get('href')\n",
    "            school_link = unidecode(school_link)\n",
    "            school_id = school_link.split('/')\n",
    "             \n",
    "            # Create a list containing the school's info\n",
    "            school_link = [school_name, school_link, school_id[7]]\n",
    "            # Add that school's list to the master list\n",
    "            team_link_list.append(school_link)\n",
    "            \n",
    "    team_link_list_df = pandas.DataFrame(team_link_list, columns = ['school_name', 'espn_profile_link', 'espn_school_id'])\n",
    "#     print team_link_list_df\n",
    "#     sql.to_sql(team_link_list_df, con=db, name='ncaa_team_lists_2015', if_exists='append', flavor='mysql', index =False)\n",
    "    return team_link_list"
   ]
  },
  {
   "cell_type": "code",
   "execution_count": 6,
   "metadata": {
    "collapsed": false
   },
   "outputs": [
    {
     "name": "stderr",
     "output_type": "stream",
     "text": [
      "/home/mrhodes/.anaconda2/lib/python2.7/site-packages/bs4/__init__.py:166: UserWarning: No parser was explicitly specified, so I'm using the best available HTML parser for this system (\"lxml\"). This usually isn't a problem, but if you run this code on another system, or in a different virtual environment, it may use a different parser and behave differently.\n",
      "\n",
      "To get rid of this warning, change this:\n",
      "\n",
      " BeautifulSoup([your markup])\n",
      "\n",
      "to this:\n",
      "\n",
      " BeautifulSoup([your markup], \"lxml\")\n",
      "\n",
      "  markup_type=markup_type))\n",
      "/home/mrhodes/.anaconda2/lib/python2.7/site-packages/ipykernel/__main__.py:23: RuntimeWarning: Argument <type 'str'> is not an unicode object. Passing an encoded string will likely have unexpected results.\n"
     ]
    }
   ],
   "source": [
    "team_link_list = get_team_list()"
   ]
  },
  {
   "cell_type": "code",
   "execution_count": 7,
   "metadata": {
    "collapsed": true
   },
   "outputs": [],
   "source": [
    "def get_team_schedule_results(team_link_list, write_to_sql=False):\n",
    "    team_link_list = team_link_list\n",
    "    all_schools_parsed_season_results = []\n",
    "\n",
    "    pandas_df_column_headers = ['game_date', 'game_id', 'school_id', 'opponent_school_id', 'opponent_school_link', 'home_away_neutral', 'game_outcome', \n",
    "                            'team_score', 'opponent_score', 'overtime', 'team_overall_cuml_wins', 'team_overall_cuml_losses', \n",
    "                            'team_conf_cuml_wins', 'team_conf_cuml_losses']\n",
    "    \n",
    "    # For each school in \"team_link_list\"\n",
    "    for school in team_link_list:\n",
    "        \n",
    "        # Empty list to put rows with HTML\n",
    "        team_season_results = []\n",
    "    \n",
    "        team_schedule_url = team_schedule_base_url + str(school[2])\n",
    "        the_team_schedule_request = requests.get(team_schedule_url, headers = headers)\n",
    "        the_team_schedule = BeautifulSoup(the_team_schedule_request.content)\n",
    "        bb = the_team_schedule.findAll('table', {'class': 'tablehead'})\n",
    "    \n",
    "        for table in bb:\n",
    "            rows = table.findAll('tr', {'class': re.compile(\"team-41\")})\n",
    "            \n",
    "            # The first two rows are the team name and column headers respectively. We dont want to parse those.\n",
    "            for idx, row in enumerate(rows):\n",
    "    \n",
    "                team_season_results.append(row.findAll('td'))\n",
    "            \n",
    "            # Each element in the list now represents a game. Each game is a list with game info.\n",
    "            for game in team_season_results:\n",
    "                \n",
    "                # If the game has been played and hasnt been postponed, continue\n",
    "                if (str(game[2].find('li', {'class': 'score'})) != None and\n",
    "                    game[2].find('li', {'class': re.compile('game-status')}) != None):\n",
    "                    \n",
    "                    game_date = game[0].contents[0]\n",
    "                    try:\n",
    "                        opponent_school_link  = game[1].a.get('href')\n",
    "                        opponent_school_link = unidecode(opponent_school_link)\n",
    "                        opponent_school_id = opponent_school_link.split('/')[7]\n",
    "                    except AttributeError:\n",
    "                        opponent_school_link  = None\n",
    "                        opponent_school_id = None\n",
    "                    \n",
    "                    \n",
    "                    # This yields a list of html elements about the team. We are interested in if there is a * (star), which indicates if the game was played at a\n",
    "                    # neutral location. It will be the last element in the school list (if it exists).\n",
    "                    opponent_name = game[1].find('li', {'class': 'team-name'}).contents\n",
    "                    # if the list is > 1, it has some extra info about the school/game location (e.g. ranking, neutral location)\n",
    "                    if len(opponent_name) > 1:\n",
    "                        # Neutral location will always be at the end if it exists. Check for it and if it was at a neutral location, make \"neutral_location\" variable = True\n",
    "                        if opponent_name[len(opponent_name)- 1] == '*':\n",
    "                            neutral_location = True\n",
    "                        else:\n",
    "                            neutral_location = False\n",
    "                    else:\n",
    "                        neutral_location = False\n",
    "                    \n",
    "                    # If neutral_location == True, then give \"home_away_neutral\" vble a value of neutral\n",
    "                    if neutral_location:\n",
    "                        home_away_neutral = 'neutral'\n",
    "                    # otherwise, look for the vs or @ symbol from the table and assign accordingly\n",
    "                    else:\n",
    "                        if game[1].find('li', {'class': 'game-status'}).contents[0] == 'vs':\n",
    "                            home_away_neutral = 'home'\n",
    "                        else:\n",
    "                            home_away_neutral = 'away'\n",
    "                    \n",
    "                    \n",
    "                    # Was it a Win or a Loss?\n",
    "                    game_outcome = game[2].find('li', {'class': re.compile('game-status')}).span.contents[0]\n",
    "                    # Game score will have score AND Overtime info (if relevant). We split on ' '. If the resulting list > 0, then there was an overtime.\n",
    "                    game_outcome_detail = game[2].find('li', {'class': 'score'}).a.contents[0].split(' ')\n",
    "                \n",
    "                    # Was there overtime played?\n",
    "                    if len(game_outcome_detail) > 1:\n",
    "                        overtime = True\n",
    "                    else:\n",
    "                        overtime = False\n",
    "                    \n",
    "                    game_score = game_outcome_detail[0]\n",
    "                    game_score_split = game_score.split(\"-\")\n",
    "                    \n",
    "                    # ESPN always list the winning number of points first, the loosing second. If the team we are lookign at won, give them the first number of points.\n",
    "                    if game_outcome == \"W\":\n",
    "                        team_score = game_score_split[0]\n",
    "                        opponent_score = game_score_split[1]\n",
    "                    else:\n",
    "                        team_score = game_score_split[1]\n",
    "                        opponent_score = game_score_split[0]\n",
    "                        \n",
    "                    # Get the gameid so that we can use it to get play-by-play information about the game.\n",
    "                    game_id = game[2].find('li', {'class': 'score'}).a.get('href').split(\"=\")[1]\n",
    "                    \n",
    "                    if game[3].contents[0] != '--':\n",
    "                        team_record = game[3].contents[0].replace('(', '')\n",
    "                        team_record = team_record.replace(')', '').split(' ')\n",
    "                        team_overall_cuml_wins = team_record[0].split('-')[0]\n",
    "                        team_overall_cuml_losses = team_record[0].split('-')[1]\n",
    "                        team_conf_cuml_wins = team_record[1].split('-')[0]\n",
    "                        team_conf_cuml_losses = team_record[1].split('-')[1]\n",
    "                    else:\n",
    "                        team_record = None\n",
    "                        team_record = None\n",
    "                        team_overall_cuml_wins = None\n",
    "                        team_overall_cuml_losses = None\n",
    "                        team_conf_cuml_wins = None\n",
    "                        team_conf_cuml_losses = None\n",
    "        \n",
    "                    game_results = [game_date, game_id, school[2], opponent_school_id, opponent_school_link, home_away_neutral, game_outcome, team_score, opponent_score, \n",
    "                                           overtime, team_overall_cuml_wins, team_overall_cuml_losses, team_conf_cuml_wins, team_conf_cuml_losses]\n",
    "                    all_schools_parsed_season_results.append(game_results)\n",
    "            print str(school[2])\n",
    "                    \n",
    "        team_parsed_season_results_pandas = pandas.DataFrame(all_schools_parsed_season_results, columns = pandas_df_column_headers)\n",
    "#         team_parsed_season_results_pandas.to_csv('/home/mrhodes/Documents/Code/Eclipse_Workspaces/NCAABasketballAnalysis/AllSchools_Season_Results2.csv')\n",
    "        # sprcify if you want to write to sql or not\n",
    "        if write_to_sql == True:\n",
    "            sql.to_sql(team_parsed_season_results_pandas, con=db, name='ncaa_team_results_2015', if_exists='append', flavor='mysql')\n",
    "        time.sleep(3)\n",
    "    return all_schools_parsed_season_results"
   ]
  },
  {
   "cell_type": "code",
   "execution_count": null,
   "metadata": {
    "collapsed": false
   },
   "outputs": [
    {
     "name": "stdout",
     "output_type": "stream",
     "text": [
      "399\n",
      "2066\n",
      "42\n",
      "311\n",
      "160\n",
      "2349\n",
      "2378\n",
      "261\n",
      "2132\n",
      "41\n",
      "151\n",
      "248\n",
      "235\n",
      "2567\n",
      "58\n",
      "218\n",
      "2655\n",
      "202\n",
      "2116\n",
      "2166\n",
      "2168\n",
      "2184\n",
      "2230\n",
      "2244\n",
      "45\n",
      "2325\n",
      "113\n",
      "227\n",
      "257\n",
      "2603\n",
      "139\n",
      "179"
     ]
    }
   ],
   "source": [
    "get_team_schedule_results(team_link_list)"
   ]
  },
  {
   "cell_type": "code",
   "execution_count": null,
   "metadata": {
    "collapsed": true
   },
   "outputs": [],
   "source": []
  }
 ],
 "metadata": {
  "kernelspec": {
   "display_name": "Python 2",
   "language": "python",
   "name": "python2"
  },
  "language_info": {
   "codemirror_mode": {
    "name": "ipython",
    "version": 2
   },
   "file_extension": ".py",
   "mimetype": "text/x-python",
   "name": "python",
   "nbconvert_exporter": "python",
   "pygments_lexer": "ipython2",
   "version": "2.7.10"
  }
 },
 "nbformat": 4,
 "nbformat_minor": 0
}
